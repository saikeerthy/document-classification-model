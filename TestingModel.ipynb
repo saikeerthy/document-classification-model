{
 "cells": [
  {
   "cell_type": "code",
   "execution_count": 1,
   "metadata": {},
   "outputs": [],
   "source": [
    "# Python - Document Classification\n",
    "# import modules\n",
    "import pandas as pd\n",
    "import matplotlib.pyplot as plt\n",
    "import sklearn.metrics\n",
    "from sklearn.model_selection import train_test_split\n",
    "from sklearn.metrics import classification_report\n",
    "from sklearn.metrics import f1_score,confusion_matrix\n",
    "from sklearn.feature_extraction.text import TfidfVectorizer\n",
    "from sklearn.naive_bayes import MultinomialNB\n",
    "from sklearn.svm import SVC\n",
    "from sklearn.ensemble import RandomForestClassifier\n",
    "from sklearn import metrics\n",
    "import numpy as np\n",
    "import pickle\n",
    "from sklearn.externals import joblib\n"
   ]
  },
  {
   "cell_type": "markdown",
   "metadata": {},
   "source": [
    "# Loading the dataset"
   ]
  },
  {
   "cell_type": "code",
   "execution_count": 3,
   "metadata": {},
   "outputs": [
    {
     "name": "stdout",
     "output_type": "stream",
     "text": [
      "         document_title                                               data\n",
      "0  DELETION OF INTEREST  e04a09c87692 d6b72e591b91 5d066f0246f1 ed41171...\n",
      "1        RETURNED CHECK  a3b334c6eefd be95012ebf2b 41d67080e078 ff1c26e...\n",
      "2                  BILL  586242498a88 9ccf259ca087 54709b24b45f 6bf9c0c...\n",
      "3                  BILL  cd50e861f48b 6ca2dd348663 d38820625542 f077614...\n",
      "4                  BILL  9db5536263d8 1c303d15eb65 3f89b4673455 b73e657...\n",
      "(62204, 2)\n",
      "       document_title                                               data\n",
      "count           62204                                              62159\n",
      "unique             14                                              60176\n",
      "top              BILL  bf064c332aa1 079935e500e5 1a4dd36c6de0 7efa289...\n",
      "freq            18968                                                 11\n"
     ]
    }
   ],
   "source": [
    "df = pd.read_csv(\"shuffled-full-set-hashed.csv\",names=[\"document_title\",\"data\"])\n",
    "# reading first five rows in the dataset\n",
    "print df.head()\n",
    "# size of data - 62204 rows and 2 columns\n",
    "print(df.shape)\n",
    "# unique gives 14 unique document titles\n",
    "print df.describe()"
   ]
  },
  {
   "cell_type": "code",
   "execution_count": 4,
   "metadata": {},
   "outputs": [
    {
     "name": "stdout",
     "output_type": "stream",
     "text": [
      "45\n"
     ]
    },
    {
     "data": {
      "text/plain": [
       "0"
      ]
     },
     "execution_count": 4,
     "metadata": {},
     "output_type": "execute_result"
    }
   ],
   "source": [
    "# removing missing values\n",
    "print(sum(df[\"data\"].isnull()))\n",
    "df1 = df.dropna()\n",
    "sum(df1.data.isnull())"
   ]
  },
  {
   "cell_type": "code",
   "execution_count": 5,
   "metadata": {},
   "outputs": [
    {
     "name": "stdout",
     "output_type": "stream",
     "text": [
      "1617\n",
      "0\n"
     ]
    }
   ],
   "source": [
    "# removing duplicates\n",
    "print(sum(df1.duplicated()))\n",
    "df2 = df1.drop_duplicates()\n",
    "print sum(df2.duplicated())"
   ]
  },
  {
   "cell_type": "code",
   "execution_count": 6,
   "metadata": {},
   "outputs": [
    {
     "data": {
      "text/plain": [
       "(60542,)"
      ]
     },
     "execution_count": 6,
     "metadata": {},
     "output_type": "execute_result"
    }
   ],
   "source": [
    "X = df2.data\n",
    "y = df2.document_title\n",
    "X.shape"
   ]
  },
  {
   "cell_type": "code",
   "execution_count": 7,
   "metadata": {},
   "outputs": [
    {
     "name": "stdout",
     "output_type": "stream",
     "text": [
      "                          0      1\n",
      "0             POLICY CHANGE  10229\n",
      "1       CANCELLATION NOTICE   9571\n",
      "2               BILL BINDER    277\n",
      "3        CHANGE ENDORSEMENT    866\n",
      "4   INTENT TO CANCEL NOTICE    227\n",
      "5                      BILL  18449\n",
      "6               APPLICATION    226\n",
      "7                    BINDER   8590\n",
      "8      REINSTATEMENT NOTICE   4295\n",
      "9         EXPIRATION NOTICE    719\n",
      "10              DECLARATION    966\n",
      "11       NON-RENEWAL NOTICE    618\n",
      "12           RETURNED CHECK    730\n",
      "13     DELETION OF INTEREST   4779\n"
     ]
    },
    {
     "data": {
      "text/plain": [
       "Text(0.5,1,u'given data plot')"
      ]
     },
     "execution_count": 7,
     "metadata": {},
     "output_type": "execute_result"
    },
    {
     "data": {
      "image/png": "[encoded data removed]",
      "text/plain": [
       "<matplotlib.figure.Figure at 0x11139dc50>"
      ]
     },
     "metadata": {},
     "output_type": "display_data"
    }
   ],
   "source": [
    "title_count={x:0 for x in set(df2['document_title'])}\n",
    "# to verify\n",
    "#print title_count \n",
    "\n",
    "for i in df2['document_title']:\n",
    "    title_count[i] += 1\n",
    "print(pd.DataFrame.from_dict(title_count.items()))\n",
    "plt.figure(figsize=(10,5))\n",
    "plt.bar(range(len(title_count)),title_count.values())\n",
    "plt.xticks(range(len(title_count)),title_count.keys(),rotation = 90)\n",
    "plt.xlabel(\"document names\")\n",
    "plt.ylabel(\"count\")\n",
    "plt.title(\"given data plot\")"
   ]
  },
  {
   "cell_type": "markdown",
   "metadata": {},
   "source": [
    "# Dividing the given data into train and test splits"
   ]
  },
  {
   "cell_type": "code",
   "execution_count": 8,
   "metadata": {},
   "outputs": [],
   "source": [
    "X_train,X_test, y_train, y_test = train_test_split(X, y, test_size=0.2, random_state = 2)\n",
    "# 80% - train , 20% - test"
   ]
  },
  {
   "cell_type": "code",
   "execution_count": 9,
   "metadata": {},
   "outputs": [
    {
     "data": {
      "text/plain": [
       "(48433, 310)"
      ]
     },
     "execution_count": 9,
     "metadata": {},
     "output_type": "execute_result"
    }
   ],
   "source": [
    "# finding features\n",
    "vectorizer = TfidfVectorizer(min_df =0.1, lowercase = False, smooth_idf=False)\n",
    "x_train = vectorizer.fit_transform(X_train)\n",
    "x_train.shape"
   ]
  },
  {
   "cell_type": "code",
   "execution_count": 11,
   "metadata": {},
   "outputs": [
    {
     "name": "stdout",
     "output_type": "stream",
     "text": [
      "number of training examples 48433\n",
      "number of features 310\n"
     ]
    },
    {
     "data": {
      "text/plain": [
       "dtype('O')"
      ]
     },
     "execution_count": 11,
     "metadata": {},
     "output_type": "execute_result"
    }
   ],
   "source": [
    "print \"number of training examples\", x_train.shape[0]\n",
    "print \"number of features\", x_train.shape[1]\n",
    "X_test.dtype"
   ]
  },
  {
   "cell_type": "code",
   "execution_count": 12,
   "metadata": {},
   "outputs": [
    {
     "name": "stdout",
     "output_type": "stream",
     "text": [
      "(12109, 310)\n"
     ]
    }
   ],
   "source": [
    "x_test = vectorizer.transform(X_test)\n",
    "print x_test.shape"
   ]
  },
  {
   "cell_type": "code",
   "execution_count": 13,
   "metadata": {},
   "outputs": [],
   "source": [
    "with open(\"vectorizer.pkl\",\"wb\") as file:\n",
    "    joblib.dump(vectorizer,file)"
   ]
  },
  {
   "cell_type": "code",
   "execution_count": 14,
   "metadata": {},
   "outputs": [],
   "source": [
    "k = y_train.unique()"
   ]
  },
  {
   "cell_type": "code",
   "execution_count": 15,
   "metadata": {},
   "outputs": [
    {
     "data": {
      "text/plain": [
       "Text(0.5,1,u'test data distribution')"
      ]
     },
     "execution_count": 15,
     "metadata": {},
     "output_type": "execute_result"
    },
    {
     "data": {
      "image/png": "[encoded data removed]",
      "text/plain": [
       "<matplotlib.figure.Figure at 0x116936d90>"
      ]
     },
     "metadata": {},
     "output_type": "display_data"
    }
   ],
   "source": [
    "# training data division\n",
    "#x_ train\n",
    "#y_train\n",
    "\n",
    "t={x:0 for x in set(k)}\n",
    "# to verify\n",
    "#print title_count \n",
    "#print t\n",
    "\n",
    "for i in y_train:\n",
    "    t[i] += 1\n",
    "\n",
    "plt.figure(figsize=(13,5))\n",
    "plt.subplot(1,2,1)\n",
    "plt.bar(range(len(t)),t.values())\n",
    "plt.xticks(range(len(t)),t.keys(),rotation = 90)\n",
    "plt.xlabel(\"document names\")\n",
    "plt.ylabel(\"count\")\n",
    "plt.title(\"training data distribution\")\n",
    "# test data distribution\n",
    "t={x:0 for x in set(k)}\n",
    "# to verify\n",
    "#print title_count \n",
    "#print t\n",
    "\n",
    "for i in y_test:\n",
    "    t[i] += 1\n",
    "plt.subplot(1,2,2)\n",
    "plt.bar(range(len(t)),t.values())\n",
    "plt.xticks(range(len(t)),t.keys(),rotation = 90)\n",
    "plt.xlabel(\"document names\")\n",
    "plt.ylabel(\"count\")\n",
    "plt.title(\"test data distribution\")"
   ]
  },
  {
   "cell_type": "markdown",
   "metadata": {},
   "source": [
    "# Testing different classification algorithms"
   ]
  },
  {
   "cell_type": "code",
   "execution_count": 14,
   "metadata": {},
   "outputs": [
    {
     "name": "stdout",
     "output_type": "stream",
     "text": [
      "0.7064167148402015\n",
      "                         precision    recall  f1-score   support\n",
      "\n",
      "            APPLICATION       0.00      0.00      0.00        44\n",
      "                   BILL       0.75      0.91      0.82      3710\n",
      "            BILL BINDER       0.00      0.00      0.00        57\n",
      "                 BINDER       0.63      0.85      0.73      1760\n",
      "    CANCELLATION NOTICE       0.58      0.72      0.64      1904\n",
      "     CHANGE ENDORSEMENT       0.58      0.73      0.64       157\n",
      "            DECLARATION       0.00      0.00      0.00       187\n",
      "   DELETION OF INTEREST       0.95      0.63      0.76       973\n",
      "      EXPIRATION NOTICE       1.00      0.13      0.23       136\n",
      "INTENT TO CANCEL NOTICE       0.00      0.00      0.00        42\n",
      "     NON-RENEWAL NOTICE       0.00      0.00      0.00       111\n",
      "          POLICY CHANGE       0.74      0.55      0.63      2070\n",
      "   REINSTATEMENT NOTICE       0.87      0.41      0.56       836\n",
      "         RETURNED CHECK       0.92      0.58      0.71       122\n",
      "\n",
      "            avg / total       0.70      0.71      0.68     12109\n",
      "\n"
     ]
    },
    {
     "name": "stderr",
     "output_type": "stream",
     "text": [
      "/anaconda2/lib/python2.7/site-packages/sklearn/metrics/classification.py:1135: UndefinedMetricWarning: Precision and F-score are ill-defined and being set to 0.0 in labels with no predicted samples.\n",
      "  'precision', 'predicted', average, warn_for)\n"
     ]
    }
   ],
   "source": [
    "# multinomial naive bayes - each feature independent \n",
    "#from sklearn.naive_bayes import MultinomialNB\n",
    "#clf = MultinomialNB().fit(x_train, y_train)\n",
    "#y_pred = clf.predict(x_test)\n",
    "#print metrics.accuracy_score(y_test,y_pred)\n",
    "#metrics.confusion_matrix(y_test, y_pred_class)\n",
    "#from sklearn.metrics import classification_report  \n",
    "#print(classification_report(y_test, y_pred))"
   ]
  },
  {
   "cell_type": "code",
   "execution_count": 15,
   "metadata": {},
   "outputs": [
    {
     "name": "stdout",
     "output_type": "stream",
     "text": [
      "0.8388801717730614\n",
      "                         precision    recall  f1-score   support\n",
      "\n",
      "            APPLICATION       0.54      0.64      0.58        44\n",
      "                   BILL       0.87      0.90      0.88      3710\n",
      "            BILL BINDER       0.38      0.11      0.16        57\n",
      "                 BINDER       0.79      0.86      0.83      1760\n",
      "    CANCELLATION NOTICE       0.81      0.83      0.82      1904\n",
      "     CHANGE ENDORSEMENT       0.84      0.85      0.84       157\n",
      "            DECLARATION       0.42      0.16      0.23       187\n",
      "   DELETION OF INTEREST       0.88      0.88      0.88       973\n",
      "      EXPIRATION NOTICE       0.79      0.68      0.73       136\n",
      "INTENT TO CANCEL NOTICE       0.51      0.43      0.47        42\n",
      "     NON-RENEWAL NOTICE       0.88      0.67      0.76       111\n",
      "          POLICY CHANGE       0.83      0.80      0.81      2070\n",
      "   REINSTATEMENT NOTICE       0.93      0.87      0.90       836\n",
      "         RETURNED CHECK       0.88      0.82      0.85       122\n",
      "\n",
      "            avg / total       0.83      0.84      0.83     12109\n",
      "\n"
     ]
    }
   ],
   "source": [
    "#from sklearn.neighbors import KNeighborsClassifier\n",
    "#clf = KNeighborsClassifier().fit(x_train, y_train)\n",
    "#y_pred = clf.predict(x_test)\n",
    "#print metrics.accuracy_score(y_test,y_pred)\n",
    "#metrics.confusion_matrix(y_test, y_pred_class)\n",
    "#from sklearn.metrics import classification_report  \n",
    "#print(classification_report(y_test, y_pred))"
   ]
  },
  {
   "cell_type": "code",
   "execution_count": 20,
   "metadata": {},
   "outputs": [
    {
     "name": "stdout",
     "output_type": "stream",
     "text": [
      "0.7861920885291932\n",
      "                         precision    recall  f1-score   support\n",
      "\n",
      "            APPLICATION       0.27      0.27      0.27        44\n",
      "                   BILL       0.85      0.85      0.85      3710\n",
      "            BILL BINDER       0.16      0.18      0.17        57\n",
      "                 BINDER       0.76      0.75      0.75      1760\n",
      "    CANCELLATION NOTICE       0.79      0.80      0.80      1904\n",
      "     CHANGE ENDORSEMENT       0.69      0.76      0.72       157\n",
      "            DECLARATION       0.18      0.20      0.19       187\n",
      "   DELETION OF INTEREST       0.88      0.86      0.87       973\n",
      "      EXPIRATION NOTICE       0.65      0.63      0.64       136\n",
      "INTENT TO CANCEL NOTICE       0.52      0.36      0.42        42\n",
      "     NON-RENEWAL NOTICE       0.78      0.76      0.77       111\n",
      "          POLICY CHANGE       0.74      0.74      0.74      2070\n",
      "   REINSTATEMENT NOTICE       0.83      0.85      0.84       836\n",
      "         RETURNED CHECK       0.72      0.70      0.71       122\n",
      "\n",
      "            avg / total       0.79      0.79      0.79     12109\n",
      "\n"
     ]
    }
   ],
   "source": [
    "#from sklearn.tree import DecisionTreeClassifier\n",
    "#clf = DecisionTreeClassifier().fit(x_train, y_train)\n",
    "#y_pred = clf.predict(x_test)\n",
    "#print metrics.accuracy_score(y_test,y_pred)\n",
    "#metrics.confusion_matrix(y_test, y_pred_class)\n",
    "#from sklearn.metrics import classification_report  \n",
    "#print(classification_report(y_test, y_pred))"
   ]
  },
  {
   "cell_type": "code",
   "execution_count": 16,
   "metadata": {},
   "outputs": [],
   "source": [
    "from sklearn.ensemble import RandomForestClassifier\n",
    "#scores = []\n",
    "#trees = [5,10,20,30,40,50,60,100,300]\n",
    "#for n_trees in trees:\n",
    "#    clf = RandomForestClassifier(n_estimators = n_trees, n_jobs = -1, random_state = 42)\n",
    "#    k = clf.fit(x_train,y_train)\n",
    "#    y_pred = k.predict(x_test)\n",
    "#    sc = 100 * metrics.accuracy_score(y_test,y_pred)\n",
    "#    scores.append(sc)\n",
    "#print scores\n",
    "#[82.12073664216697, 84.26789990915847, 85.4075481047155, 85.73788091502188, 85.87001403914444, 85.93608060120572, 85.8782723594021, 86.20860516970849, 86.42332149640764]"
   ]
  },
  {
   "cell_type": "code",
   "execution_count": 17,
   "metadata": {},
   "outputs": [
    {
     "name": "stdout",
     "output_type": "stream",
     "text": [
      "0.8593608060120571\n",
      "                         precision    recall  f1-score   support\n",
      "\n",
      "            APPLICATION       0.78      0.41      0.54        44\n",
      "                   BILL       0.89      0.90      0.89      3710\n",
      "            BILL BINDER       0.44      0.14      0.21        57\n",
      "                 BINDER       0.80      0.89      0.84      1760\n",
      "    CANCELLATION NOTICE       0.85      0.87      0.86      1904\n",
      "     CHANGE ENDORSEMENT       0.86      0.78      0.82       157\n",
      "            DECLARATION       0.37      0.12      0.18       187\n",
      "   DELETION OF INTEREST       0.93      0.89      0.91       973\n",
      "      EXPIRATION NOTICE       0.85      0.70      0.77       136\n",
      "INTENT TO CANCEL NOTICE       0.71      0.40      0.52        42\n",
      "     NON-RENEWAL NOTICE       0.97      0.77      0.86       111\n",
      "          POLICY CHANGE       0.81      0.85      0.83      2070\n",
      "   REINSTATEMENT NOTICE       0.93      0.92      0.93       836\n",
      "         RETURNED CHECK       0.98      0.82      0.89       122\n",
      "\n",
      "            avg / total       0.85      0.86      0.85     12109\n",
      "\n"
     ]
    }
   ],
   "source": [
    "# random forest with number of trees = 50\n",
    "clf = RandomForestClassifier(n_estimators = 50, n_jobs = -1, random_state = 42)\n",
    "final_model = clf.fit(x_train,y_train)\n",
    "y_pred = final_model.predict(x_test)\n",
    "print metrics.accuracy_score(y_test,y_pred)\n",
    "print(classification_report(y_test, y_pred))"
   ]
  },
  {
   "cell_type": "code",
   "execution_count": 18,
   "metadata": {},
   "outputs": [
    {
     "data": {
      "text/plain": [
       "array([0.88, 0.62, 1.  , ..., 0.72, 1.  , 0.42])"
      ]
     },
     "execution_count": 18,
     "metadata": {},
     "output_type": "execute_result"
    }
   ],
   "source": [
    "y_predas = final_model.predict_proba(x_test)\n",
    "y_predask =  np.max(y_predas, axis = 1)\n",
    "y_predask"
   ]
  },
  {
   "cell_type": "code",
   "execution_count": 44,
   "metadata": {},
   "outputs": [],
   "source": [
    "## to test\n",
    "#df3 = pd.read_csv(\"HeavyWaterTestDataSet.csv\",names=[\"document_title\",\"data\"])\n",
    "#df4 = df3.replace(np.nan, '', regex=True)\n",
    "#x_test = df4.data\n",
    "#y_test = df4.document_title\n",
    "#x_test = vectorizer.transform(x_test)\n",
    "#print x_test.shape\n",
    "#y_pred = final_model.predict(x_test)\n",
    "#print metrics.accuracy_score(y_test,y_pred)\n",
    "#print(classification_report(y_test, y_pred))"
   ]
  },
  {
   "cell_type": "code",
   "execution_count": 19,
   "metadata": {},
   "outputs": [
    {
     "data": {
      "text/plain": [
       "['random_forest.pkl']"
      ]
     },
     "execution_count": 19,
     "metadata": {},
     "output_type": "execute_result"
    }
   ],
   "source": [
    "joblib.dump(final_model,\"random_forest.pkl\")"
   ]
  },
  {
   "cell_type": "code",
   "execution_count": 20,
   "metadata": {},
   "outputs": [],
   "source": [
    "#import pickle\n",
    "#from sklearn.externals import joblib\n",
    "#k11 = pickle.load(open(\"/Users/kakarlakeerthy/Desktop/MyModel/vectorizer.pk\", \"rb\"))\n",
    "\n",
    "#k12 = joblib.load(open(\"/Users/kakarlakeerthy/Desktop/MyModel/random_forest.pkl\", \"rb\"))"
   ]
  },
  {
   "cell_type": "code",
   "execution_count": 25,
   "metadata": {},
   "outputs": [
    {
     "name": "stdout",
     "output_type": "stream",
     "text": [
      "cd50e861f48b 6ca2dd348663 d38820625542 f07761418345 5948001254b3 9997460cf372 3f7a70f3474f 6bc122aa4b06 b4f1b88bd3f3 25c57acdf805 54709b24b45f 51fc8b56e14f ff714b9fa7fd 798fe9915030 2d5d7bc2df91 6b583fe13e39 8e93a2273a93 3d877a3bc4f0 ff1c26ea0b6f d9ef68daef4c 9a42ead47d1c 5cde1ed4f9b0 a20e78c41cf9 dec88250479b ecee69844b4e 87b8193a0183 0c470ee92bb5 cd50f04925dd 878460b4304e b4f1b88bd3f3 133d46f7ed38 d38820625542 f682089485c3 96776b42c1d5 51fc8b56e14f 3f7a70f3474f d911e9441d32 c16651ffa1b7 9374c105ef84 f8b0c07e306c d38820625542 e0a08df8ec4c f8dab246f73f 878460b4304e 3f7a70f3474f b4f1b88bd3f3 6ce6cc5a3203 b4f1b88bd3f3 ddf4525e90e3 55b85f1ee56e c63534ebfa82 878460b4304e 9448e1c70dec 1932d6ce3497 8243aca146b2 2ea49cf89745 ff714b9fa7fd e4dad7cb07b6 ff714b9fa7fd 549330b9e320 f7bb594ff117 e63fa74d3c8b df03d288b8b6 cd50e861f48b f7bb594ff117 a1bb6b4223d9 ba02159e05b1 37ac79620fc6 1087de55f102 80948b43ec70 d9fc2cff7e21 abca9d18fae2 6cfef272bdb9 9d83e581af4b cc9e05bc2a86 cbd0a3abbc34 69954839bb65 cd50f04925dd 431392fb12c7 ecee69844b4e 36e7aa72ffe1 0b3f3d23bd37 8cb71bb0ee27 ff714b9fa7fd a87473e878c1 a1bb6b4223d9 f7bb594ff117 dff2d27792d5 ff714b9fa7fd 83f8b75d8fe3 22f8fa324aed 58b1c79289d7 5948001254b3 9997460cf372 da9ad7407226 a263b63bc282 011113964d37 da9ad7407226 b73e657498f2 17c11ac4749f ee8125ecd585 0cbca93be301 ea95010f229b b13cff832743 cf4fc632eed2 b4f1b88bd3f3 6b343f522f78 4ea48dbbe14e 5f9c2ac954be 61e151399c9d 7b477e3d63d2 cdc95c39cac8 f07761418345 22fa1184be26 d9ef68daef4c d944e076fa92 f7ae6f8257da 87b8193a0183 11269ab19093 6cfef272bdb9 8ebb4fffd292 d38820625542 6469b7eeb029 98b0900e06f4 1b6c95839a6d 44c1e122f3f0 d38820625542 cfd22ba194a9 828e5c947b2b 7860028b1d17 6dbd5ceef3d1 f60bd1bc4fe5 05b8cb495fc2 9d83e581af4b d38820625542 7d9e333a86da 6cfef272bdb9 9d83e581af4b 133d46f7ed38 1087de55f102 ef4ba44cdf5f b02eb907dd1a 35991d8609e2 29f6e5802d4f 133d46f7ed38 874b796362b6 e943e5e5b779 4d28878de1db d1c3631d621b 7d9e333a86da d38820625542 133d46f7ed38 1b7657be8986 1ab34730c1e0 f7bb594ff117 ff714b9fa7fd 8502c0087099 58b1c79289d7 cd50f04925dd ecee69844b4e 431392fb12c7 1b3e5dc39eb9 586242498a88 5680bf4cc121 69c87281a156 c8207fafe699 cd50f04925dd ff714b9fa7fd 8502c0087099 ecee69844b4e 8cb71bb0ee27 386e8b20726f a1bb6b4223d9 6bf9c0cb01b4 142d16db61dd 60d18132df81 dab42b5e7528 259218088611 135307dba198 b73e657498f2 26f7353edc2e cd50f04925dd d38820625542 133d46f7ed38 f7bb594ff117 ecee69844b4e 1ab34730c1e0 e943e5e5b779 a87473e878c1 57d5616683d8 54fb27d07530 afab4a5c0f58 83da9eb0a417 619c02c2888a 11269ab19093 fb82195dee42 b7a0f56f6ce8 2d5d7bc2df91 6b583fe13e39 798fe9915030 586242498a88 0662d94b3d3b b7ab56536ec4 f54a40468e55 14bc74b659ac 7498a1e9d9d7 ac624879ac84 6bc122aa4b06 868759570f1a 8d21095e8690 4cc4edfe0691 a28d2053ff0a abca9d18fae2 586242498a88 1446e5509927 7ec02e30a5b3 00c51a5afedc b9699ce57810 ba02159e05b1 f0666bdbc8a5 e7e059c82399 6bc963b8a2b5 6d3eb69fcdd2 ae28415398b8 25c57acdf805 bce6be3921fd 77af4ed951a7 6dcc75eaf823 f9b20c280980 1b6d0614f2c7 3486e5fe0d73 4b62ac958854 1f72b4630c4a 05c859b5a17c b2f316884260 93c0dec8ced7 fc25f79e6d18 c1a112035695 1d8b1029729c c33b5c3d0449 a4ffd27183aa bf064c332aa1 62a63953f966 034e2d7f187e 0562c756a2f2 40cb5e209b92 1b6d0614f2c7 ce1f034abb5d 7420f0cec354 e943e5e5b779 b208ae1e8232 f8b0c07e306c 0072efdaa34a 98d0d51b397c fbb5efbcc5b3 4b62ac958854 e170f65889d6 33de92ab3817 4129ea7e3fb2 0c4ce226d9fe d38820625542 ba02159e05b1 cde4f1b2a877 6ce6cc5a3203 62189de225a6 f95d0bea231b 6ca2dd348663 63fa15c4caa9 c9a53ea6e219 10e45001c2f2 094453b4e4ae 586242498a88 586242498a88 9690f01b4172 818a7ff3bf29 578830762b27 cc429363fb23 e27acd17313e eeb86a6a04e4 8d21095e8690 b73e657498f2 be6b97be2959 59c7f349c89a 93790ade6682 a65259ff0092 4357c81e10c1 a31962fbd5f3 0562c756a2f2 e259a56993f4 1b6d0614f2c7 b9699ce57810 eeb86a6a04e4 b61f1af56200 036087ac04f9 25c57acdf805 b136f6349cf3 586242498a88 54709b24b45f 2d5d7bc2df91 6b583fe13e39 798fe9915030 8e93a2273a93 1c303d15eb65 bce6be3921fd 798eee3a8bec 7d41ca882f26 93c988b67c47 2ef7c27a5df4 fea862065b74 0c222c6660f2 34186de5c52d 25c57acdf805 bb0e7ae8fdbf dafbb201715e fb2cd24a447a 6bf9c0cb01b4 0562c756a2f2 ba02159e05b1 6b304aabdcee 6d25574664d2 9cdf4a63deb0 b59e343416f7 26f7353edc2e 133d46f7ed38 9bc96abb24e5 eeb86a6a04e4 f95d0bea231b 74c7b4b972ff 10e45001c2f2 10e45001c2f2 6ce6cc5a3203 10e45001c2f2 b73e657498f2 f95d0bea231b d19b1c129f40 25c57acdf805 6101ed18e42f\n"
     ]
    }
   ],
   "source": [
    "#s = raw_input()\n",
    "#ss = [s]\n",
    "#d = { 'data':s}"
   ]
  },
  {
   "cell_type": "code",
   "execution_count": 30,
   "metadata": {},
   "outputs": [],
   "source": [
    "#k = pd.DataFrame({'data':ss})"
   ]
  },
  {
   "cell_type": "code",
   "execution_count": 33,
   "metadata": {},
   "outputs": [],
   "source": [
    "#asd = k.data"
   ]
  },
  {
   "cell_type": "code",
   "execution_count": 34,
   "metadata": {},
   "outputs": [
    {
     "data": {
      "text/plain": [
       "<1x310 sparse matrix of type '<type 'numpy.float64'>'\n",
       "\twith 91 stored elements in Compressed Sparse Row format>"
      ]
     },
     "execution_count": 34,
     "metadata": {},
     "output_type": "execute_result"
    }
   ],
   "source": [
    "#vectorizer.transform(asd)"
   ]
  },
  {
   "cell_type": "code",
   "execution_count": null,
   "metadata": {},
   "outputs": [],
   "source": []
  }
 ],
 "metadata": {
  "kernelspec": {
   "display_name": "Python 2",
   "language": "python",
   "name": "python2"
  },
  "language_info": {
   "codemirror_mode": {
    "name": "ipython",
    "version": 2
   },
   "file_extension": ".py",
   "mimetype": "text/x-python",
   "name": "python",
   "nbconvert_exporter": "python",
   "pygments_lexer": "ipython2",
   "version": "2.7.14"
  }
 },
 "nbformat": 4,
 "nbformat_minor": 2
}
